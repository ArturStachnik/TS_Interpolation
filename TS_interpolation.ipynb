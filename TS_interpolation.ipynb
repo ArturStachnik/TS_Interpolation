{
  "nbformat": 4,
  "nbformat_minor": 0,
  "metadata": {
    "colab": {
      "provenance": [],
      "authorship_tag": "ABX9TyN5tMubPd/ksVLiNb/MhRbh",
      "include_colab_link": true
    },
    "kernelspec": {
      "name": "python3",
      "display_name": "Python 3"
    },
    "language_info": {
      "name": "python"
    }
  },
  "cells": [
    {
      "cell_type": "markdown",
      "metadata": {
        "id": "view-in-github",
        "colab_type": "text"
      },
      "source": [
        "<a href=\"https://colab.research.google.com/github/ArturStachnik/TS_Interpolation/blob/main/TS_interpolation.ipynb\" target=\"_parent\"><img src=\"https://colab.research.google.com/assets/colab-badge.svg\" alt=\"Open In Colab\"/></a>"
      ]
    },
    {
      "cell_type": "markdown",
      "source": [
        "# **Interpolation of Time Series with gaps**"
      ],
      "metadata": {
        "id": "DbUxNhRSB-Bo"
      }
    },
    {
      "cell_type": "markdown",
      "source": [
        "This notebook is used to interpolate non-periodic discrete valued temporal data series and generate a new series with specific temporal spacing along with its associated interpolated values.\n",
        "\n",
        "In order to work with it, make a copy locally or inside your Google Drive and adapt it to your necessities."
      ],
      "metadata": {
        "id": "u_FmG_0zdxnp"
      }
    },
    {
      "cell_type": "markdown",
      "source": [
        "Import the needed libraries"
      ],
      "metadata": {
        "id": "A0Oe-DwNCfzS"
      }
    },
    {
      "cell_type": "code",
      "execution_count": 8,
      "metadata": {
        "id": "AQ1vpAkYcx1N"
      },
      "outputs": [],
      "source": [
        "import pandas as pd\n",
        "import numpy as np"
      ]
    },
    {
      "cell_type": "markdown",
      "source": [
        "Import the data series, it has to be  imported as 'data.csv'\n",
        "\n",
        "By default is 'UTF-8' encoded, but if Spanish language is used change to 'latin-1'\n",
        "\n",
        "By default is ' , ' separated but can be changed into ' ; '"
      ],
      "metadata": {
        "id": "OG0279_-dyQx"
      }
    },
    {
      "cell_type": "code",
      "source": [
        "df = pd.read_csv('data.csv', sep=';', encoding='UTF-8')"
      ],
      "metadata": {
        "id": "v4Buw3zudYiY"
      },
      "execution_count": 9,
      "outputs": []
    },
    {
      "cell_type": "markdown",
      "source": [
        "Check the data structure"
      ],
      "metadata": {
        "id": "ihitlootd1Mv"
      }
    },
    {
      "cell_type": "code",
      "source": [
        "df.head()"
      ],
      "metadata": {
        "id": "V0c_oKG6d6Qv"
      },
      "execution_count": null,
      "outputs": []
    },
    {
      "cell_type": "markdown",
      "source": [
        "Create a consecutive time column, without gaps and generate a new dataframe containing it.\n",
        "Substitue Column name by the exact name you want to use.\n",
        "\n",
        "\n",
        "*   Col1: Time series with gaps\n",
        "*   Col2: Discrete data\n",
        "\n",
        "\n"
      ],
      "metadata": {
        "id": "QyJHoOaAeO_T"
      }
    },
    {
      "cell_type": "code",
      "source": [
        "Col1 = 'Column name'\n",
        "Col2 = 'Column name'"
      ],
      "metadata": {
        "id": "CAZkyvPbLLsu"
      },
      "execution_count": null,
      "outputs": []
    },
    {
      "cell_type": "code",
      "source": [
        "time_without_gaps = np.arange(df[Col1].min(), df[Col1].max() + 1)\n",
        "df_inter = pd.DataFrame({Col1: time_without_gaps})"
      ],
      "metadata": {
        "id": "bYrHdfgOc1FH"
      },
      "execution_count": 12,
      "outputs": []
    },
    {
      "cell_type": "markdown",
      "source": [
        "Interpolate the desired values for the time series without gaps\n",
        "It is possible to select the interpolation method"
      ],
      "metadata": {
        "id": "jF8NDt1JgNSg"
      }
    },
    {
      "cell_type": "code",
      "source": [
        "df_inter[Col2] = df_inter[Col1].map(\n",
        "    dict(zip(df[Col1], df[Col2]))).interpolate(method='polynomial', order=3)"
      ],
      "metadata": {
        "id": "gu_7Ro0hhF84"
      },
      "execution_count": 23,
      "outputs": []
    },
    {
      "cell_type": "markdown",
      "source": [
        "Compare the statistics from the original dataset to the interpolated one"
      ],
      "metadata": {
        "id": "X-XKsEhehok1"
      }
    },
    {
      "cell_type": "code",
      "source": [
        "stats_original = df[Col2].describe()\n",
        "stats_inter = df_inter[Col2].describe()\n",
        "percentage = (1 - (df[Col2].describe() / df_inter[Col2].describe())) * 100\n",
        "\n",
        "stats_comparison = pd.concat([stats_original, stats_inter, percentage], axis=1)\n",
        "stats_comparison.columns = ['Original', 'Interpolated', 'Difference (%)']\n",
        "\n",
        "stats_comparison = stats_comparison.T\n",
        "stats_comparison"
      ],
      "metadata": {
        "id": "M8hWEl6MjOCR"
      },
      "execution_count": null,
      "outputs": []
    },
    {
      "cell_type": "markdown",
      "source": [
        "Read the interpolated dataframe structure"
      ],
      "metadata": {
        "id": "gUYWlg_p_QaK"
      }
    },
    {
      "cell_type": "code",
      "source": [
        "df_inter.head()"
      ],
      "metadata": {
        "id": "SJ99_PtE_PMh"
      },
      "execution_count": null,
      "outputs": []
    },
    {
      "cell_type": "markdown",
      "source": [
        "Optional: In case the data is not as needed, it is possible to round up the values. Subsitute Col1 or Col2 by the exact column name."
      ],
      "metadata": {
        "id": "-y1itkvS_nVt"
      }
    },
    {
      "cell_type": "code",
      "source": [
        "df_inter['Col1'] = df_inter['Col1'].round()\n",
        "df_inter['Col2'] = df_inter['Col2'].round(2)\n",
        "df_inter.head()"
      ],
      "metadata": {
        "id": "q-tPG6qV_m_E"
      },
      "execution_count": null,
      "outputs": []
    },
    {
      "cell_type": "markdown",
      "source": [
        "Export the interpolated dataframe to a CSV file"
      ],
      "metadata": {
        "id": "NFojZ0thDCF-"
      }
    },
    {
      "cell_type": "code",
      "source": [
        "df_inter.to_csv('interpolated_data.csv', index=False)"
      ],
      "metadata": {
        "id": "FncyGCORH5w7"
      },
      "execution_count": 32,
      "outputs": []
    }
  ]
}